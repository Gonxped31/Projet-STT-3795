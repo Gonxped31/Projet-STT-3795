{
 "cells": [
  {
   "cell_type": "markdown",
   "metadata": {},
   "source": [
    "<h2>Imports<h2>"
   ]
  },
  {
   "cell_type": "code",
   "execution_count": null,
   "metadata": {},
   "outputs": [],
   "source": [
    "from common_language import _LANGUAGES\n",
    "import processing as prlib\n",
    "\n",
    "from scipy.fft import fft\n",
    "from mutagen.wave import WAVE\n",
    "from parselmouth.praat import call\n",
    "import matplotlib.pyplot as plt\n",
    "import pandas as pd\n",
    "import numpy as np\n",
    "import librosa\n",
    "import librosa.display\n",
    "import parselmouth\n",
    "import noisereduce as nr"
   ]
  },
  {
   "cell_type": "markdown",
   "metadata": {},
   "source": [
    "<h2>Features Processing<h2>"
   ]
  },
  {
   "cell_type": "markdown",
   "metadata": {},
   "source": [
    "Get data frames"
   ]
  },
  {
   "cell_type": "code",
   "execution_count": null,
   "metadata": {},
   "outputs": [],
   "source": [
    "_, train_df, test_df, validation_df = prlib.get_dataframes()"
   ]
  },
  {
   "cell_type": "markdown",
   "metadata": {},
   "source": [
    "Features matrix"
   ]
  },
  {
   "cell_type": "code",
   "execution_count": null,
   "metadata": {},
   "outputs": [],
   "source": [
    "attributes_df = pd.DataFrame()\n",
    "datasets = [('train', train_df), ('test', test_df), ('validation', validation_df)]\n",
    "\n",
    "for (type, df) in datasets[2:]:\n",
    "    audios = df['paths'].tolist()\n",
    "    for i in range(len(audios)):\n",
    "        audio = audios[i]\n",
    "        path = prlib.get_path(type, audio)\n",
    "        print(i, \"/\", len(audios), path)\n",
    "        data = prlib.get_data(path)\n",
    "        row = prlib.get_data_features(path, audio)\n",
    "        attributes_df = pd.concat([attributes_df, row], ignore_index=True)\n",
    "\n",
    "matrix = attributes_df.values"
   ]
  },
  {
   "cell_type": "markdown",
   "metadata": {},
   "source": [
    "<h2>Features visualisation<h2>"
   ]
  },
  {
   "cell_type": "markdown",
   "metadata": {},
   "source": [
    "Initialisation"
   ]
  },
  {
   "cell_type": "code",
   "execution_count": null,
   "metadata": {},
   "outputs": [],
   "source": [
    "data_path = prlib.get_path('validation', validation_df['paths'][3929])\n",
    "data = prlib.get_data(data_path)\n",
    "#data = get_data(get_path('train', 'common_voice_en_19688238.wav'))\n",
    "prlib.sample_rate,data_path, prlib.get_data_features(data_path, validation_df['paths'][3929])"
   ]
  },
  {
   "cell_type": "code",
   "execution_count": null,
   "metadata": {},
   "outputs": [],
   "source": [
    "plt.figure(figsize=(12, 8))\n",
    "plt.scatter(range(len(data)), data, s=0.1)\n",
    "plt.xlabel('Time')"
   ]
  },
  {
   "cell_type": "code",
   "execution_count": null,
   "metadata": {},
   "outputs": [],
   "source": [
    "# https://librosa.org/doc/main/generated/librosa.stft.html\n",
    "\n",
    "plt.figure(figsize=(12, 8))\n",
    "#librosa.display.specshow(librosa.amplitude_to_db(np.abs(librosa.stft(data)), ref=np.max), y_axis='log', x_axis='time')\n",
    "librosa.display.specshow(librosa.amplitude_to_db(librosa.stft(data, n_fft=512)), y_axis='log', x_axis='time')\n",
    "#librosa.display.specshow(librosa.stft(data, n_fft=512), y_axis='log', x_axis='time')\n",
    "plt.show()"
   ]
  },
  {
   "cell_type": "code",
   "execution_count": null,
   "metadata": {},
   "outputs": [],
   "source": [
    "# scatter plot of data\n",
    "plt.figure(figsize=(12, 8))\n",
    "plt.scatter(range(len(data)), data, s=0.1)\n",
    "plt.xlabel('Time')"
   ]
  },
  {
   "cell_type": "markdown",
   "metadata": {},
   "source": [
    "MFCCs visualisation"
   ]
  },
  {
   "cell_type": "code",
   "execution_count": null,
   "metadata": {},
   "outputs": [],
   "source": [
    "normalized_mfccs = prlib.get_Normalized_Mfccs(data)\n",
    "print(normalized_mfccs.shape)\n",
    "plt.figure(figsize=(12,6))\n",
    "librosa.display.specshow(normalized_mfccs, x_axis='time')\n",
    "plt.colorbar()\n",
    "plt.title('MFCCs')\n",
    "plt.tight_layout()\n",
    "plt.show()"
   ]
  },
  {
   "cell_type": "markdown",
   "metadata": {},
   "source": [
    "Spectral measurements visualisation"
   ]
  },
  {
   "cell_type": "code",
   "execution_count": null,
   "metadata": {},
   "outputs": [],
   "source": [
    "specs = prlib.get_spectral_measurements(data)\n",
    "t = librosa.frames_to_time(range(len(specs[0])), sr=prlib.sample_rate)\n",
    "\n",
    "# Plotting the Spectral Features\n",
    "plt.figure(figsize=(12, 4))\n",
    "plt.plot(t, specs[0], color='red', label='Centroid')\n",
    "plt.plot(t, specs[1], color='blue', label='Rolloff')\n",
    "plt.plot(t, specs[2], color='green', label='Bandwidth')\n",
    "\n",
    "# For spectral flatness, there's no need to convert to dB since it's a ratio and typically small.\n",
    "#plt.plot(t, spectral_flatness, color='orange', label='Flatness')\n",
    "\n",
    "# For spectral contrast, it's common to average over the frequency bands since it returns an array of shape (n_bands, n_frames).\n",
    "#spectral_contrast_avg = np.mean(spectral_contrast, axis=0)\n",
    "#plt.plot(t, spectral_contrast_avg, color='black', label='Contrast')\n",
    "\n",
    "plt.xlabel(\"Time (s)\")\n",
    "plt.ylabel(\"Spectral Feature Value\")\n",
    "plt.title(\"Spectral Features Over Time\")\n",
    "plt.legend(loc='best')\n",
    "plt.show()"
   ]
  },
  {
   "cell_type": "markdown",
   "metadata": {},
   "source": [
    "Pitches visualisation"
   ]
  },
  {
   "cell_type": "code",
   "execution_count": null,
   "metadata": {},
   "outputs": [],
   "source": [
    "pitch_track = prlib.get_pitch_sequences(data)\n",
    "plt.figure(figsize=(12, 6))\n",
    "plt.plot(pitch_track)\n",
    "plt.xlabel('Time (frames)')\n",
    "plt.ylabel('Frequency (Hz)')\n",
    "plt.title('Pitch Track')\n",
    "plt.show()"
   ]
  },
  {
   "cell_type": "markdown",
   "metadata": {},
   "source": [
    "RMS Visualisation"
   ]
  },
  {
   "cell_type": "code",
   "execution_count": null,
   "metadata": {},
   "outputs": [],
   "source": [
    "rms_energy = prlib.get_rms_energy(data)\n",
    "frames = range(len(rms_energy[0]))\n",
    "t = librosa.frames_to_time(frames, sr=prlib.sample_rate)\n",
    "\n",
    "plt.figure(figsize=(12, 4))\n",
    "plt.plot(t, rms_energy[0], label='RMS Energy')\n",
    "plt.xlabel(\"Time (s)\")\n",
    "plt.ylabel(\"Energy\")\n",
    "plt.title(\"RMS Energy Over Time\")\n",
    "plt.legend()\n",
    "plt.show()"
   ]
  }
 ],
 "metadata": {
  "kernelspec": {
   "display_name": "Python 3",
   "language": "python",
   "name": "python3"
  },
  "language_info": {
   "codemirror_mode": {
    "name": "ipython",
    "version": 3
   },
   "file_extension": ".py",
   "mimetype": "text/x-python",
   "name": "python",
   "nbconvert_exporter": "python",
   "pygments_lexer": "ipython3",
   "version": "3.12.2"
  }
 },
 "nbformat": 4,
 "nbformat_minor": 2
}
