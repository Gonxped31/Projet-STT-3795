{
 "cells": [
  {
   "cell_type": "code",
   "execution_count": null,
   "metadata": {},
   "outputs": [],
   "source": [
    "from common_language import _LANGUAGES\n",
    "import processing as prlib\n",
    "from scipy.fft import fft\n",
    "import matplotlib.pyplot as plt\n",
    "import numpy as np"
   ]
  },
  {
   "cell_type": "code",
   "execution_count": null,
   "metadata": {},
   "outputs": [],
   "source": [
    "train_df = prlib.get_dataframe('train')"
   ]
  },
  {
   "cell_type": "code",
   "execution_count": null,
   "metadata": {},
   "outputs": [],
   "source": [
    "### Get the waveform of the audio file ###\n",
    "file = train_df['paths'][10000]\n",
    "path = prlib.get_path('train', 'common_voice_ar_19061960.wav')\n",
    "\n",
    "data = prlib.get_data(path)\n",
    "\n",
    "plt.figure(figsize=(12,6))\n",
    "plt.plot(data, color='green')\n",
    "plt.title('Wave form')\n",
    "plt.ylabel(\"Amplitude\")\n",
    "plt.xlabel(\"Time\")\n",
    "plt.show()"
   ]
  },
  {
   "cell_type": "code",
   "execution_count": null,
   "metadata": {},
   "outputs": [],
   "source": [
    "### Get the frequency spectrum ###\n",
    "\n",
    "fourier_tranform = fft(data)\n",
    "\n",
    "#Describe how the power = energy/sec varies with the frequency. \n",
    "#Better to use it instead of the magnitude spectrum here because it will be easier to find the MFCCs.\n",
    "#Power = magnitude**2\n",
    "#Contains the elements on the y axis.\n",
    "power_spectrum = np.abs(fourier_tranform)**2 \n",
    "\n",
    "#Find frequencies based on the power.\n",
    "#Contains the elements on the x axis.\n",
    "frequencies = np.linspace(0, prlib.sample_rate, len(power_spectrum))\n",
    "\n",
    "plt.figure(figsize=(12, 6))\n",
    "\n",
    "#Get the first half of the arrays because of the symetrie.\n",
    "#Symetrie caused by the complex conjugate.\n",
    "plt.plot(frequencies[:len(frequencies)//2], power_spectrum[:len(power_spectrum)//2], color='green')\n",
    "plt.title('Frequency spectrum')\n",
    "plt.xlabel('Frequency (Hz)')\n",
    "plt.ylabel('Power')"
   ]
  }
 ],
 "metadata": {
  "kernelspec": {
   "display_name": "Python 3",
   "language": "python",
   "name": "python3"
  },
  "language_info": {
   "codemirror_mode": {
    "name": "ipython",
    "version": 3
   },
   "file_extension": ".py",
   "mimetype": "text/x-python",
   "name": "python",
   "nbconvert_exporter": "python",
   "pygments_lexer": "ipython3",
   "version": "3.12.2"
  }
 },
 "nbformat": 4,
 "nbformat_minor": 2
}
