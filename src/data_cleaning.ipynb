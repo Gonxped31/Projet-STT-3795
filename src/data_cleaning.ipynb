{
 "cells": [
  {
   "cell_type": "code",
   "execution_count": null,
   "metadata": {},
   "outputs": [],
   "source": [
    "import processing as prlib\n",
    "import clean_data as cleaner\n",
    "import matplotlib.pyplot as plt\n",
    "import random"
   ]
  },
  {
   "cell_type": "code",
   "execution_count": null,
   "metadata": {},
   "outputs": [],
   "source": [
    "_, train, test, validation = prlib.get_dataframes()"
   ]
  },
  {
   "cell_type": "code",
   "execution_count": null,
   "metadata": {},
   "outputs": [],
   "source": [
    "#Pre clean\n",
    "#wav_name = 'common_voice_cv_20798520.wav'\n",
    "wav_name = random.choice(train['paths'].values)\n",
    "print(wav_name)\n",
    "audio = prlib.get_data(prlib.get_path('train', wav_name))\n",
    "print(audio, len(audio))\n",
    "plt.plot(audio)\n",
    "plt.ylabel(\"Amplitude\")\n",
    "plt.xlabel(\"Time\")\n",
    "plt.title(\"Pre cleaning\")\n",
    "plt.show()\n",
    "\n",
    "#Post clean\n",
    "clean_audio = cleaner.clean_sound(audio)\n",
    "plt.plot(clean_audio)\n",
    "plt.ylabel(\"Amplitude\")\n",
    "plt.xlabel(\"Time\")\n",
    "plt.title(\"Post cleaning\")\n",
    "plt.show()"
   ]
  },
  {
   "attachments": {},
   "cell_type": "markdown",
   "metadata": {},
   "source": [
    "Remove empty sound from audio files"
   ]
  },
  {
   "cell_type": "code",
   "execution_count": null,
   "metadata": {},
   "outputs": [],
   "source": [
    "for j in range(len(validation)):\n",
    "    wav_name = str(validation['paths'][j])\n",
    "    try:\n",
    "        cleaner.clean_file(\"validation\", wav_name)\n",
    "    except Exception as e:\n",
    "        print(e)"
   ]
  }
 ],
 "metadata": {
  "kernelspec": {
   "display_name": "Python 3",
   "language": "python",
   "name": "python3"
  },
  "language_info": {
   "codemirror_mode": {
    "name": "ipython",
    "version": 3
   },
   "file_extension": ".py",
   "mimetype": "text/x-python",
   "name": "python",
   "nbconvert_exporter": "python",
   "pygments_lexer": "ipython3",
   "version": "3.12.2"
  },
  "orig_nbformat": 4
 },
 "nbformat": 4,
 "nbformat_minor": 2
}
