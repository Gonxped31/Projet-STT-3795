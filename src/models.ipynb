{
 "cells": [
  {
   "attachments": {},
   "cell_type": "markdown",
   "metadata": {},
   "source": [
    "### Imports"
   ]
  },
  {
   "cell_type": "code",
   "execution_count": null,
   "metadata": {},
   "outputs": [],
   "source": [
    "# ML imports\n",
    "from sklearn.preprocessing import StandardScaler\n",
    "from sklearn.decomposition import PCA\n",
    "from sklearn.ensemble import RandomForestClassifier\n",
    "from sklearn.svm import SVC\n",
    "from sklearn.naive_bayes import GaussianNB\n",
    "from sklearn.neural_network import MLPClassifier\n",
    "from sklearn.pipeline import Pipeline\n",
    "from sklearn.metrics import accuracy_score, confusion_matrix, classification_report, make_scorer, f1_score\n",
    "from sklearn.model_selection import train_test_split, GridSearchCV, RandomizedSearchCV\n",
    "from sklearn.preprocessing import LabelEncoder \n",
    "from xgboost import XGBClassifier \n",
    "\n",
    "# Data analysis and stats imports\n",
    "import numpy as np\n",
    "import pandas as pd\n",
    "from scipy.stats import expon, reciprocal\n",
    "\n",
    "# Data visualization imports\n",
    "import seaborn as sns\n",
    "import matplotlib.pyplot as plt \n"
   ]
  },
  {
   "attachments": {},
   "cell_type": "markdown",
   "metadata": {},
   "source": [
    "### Get data"
   ]
  },
  {
   "cell_type": "code",
   "execution_count": null,
   "metadata": {},
   "outputs": [],
   "source": [
    "train_df = pd.read_csv('C:\\\\Users\\\\Kamen\\ML\\\\Projet-STT-3795\\\\src\\\\train_preprocessed_data')\n",
    "test_df = pd.read_csv('C:\\\\Users\\\\Kamen\\\\ML\\\\Projet-STT-3795\\\\src\\\\test_preprocessed_data')\n",
    "validation_df = pd.read_csv('C:\\\\Users\\\\Kamen\\\\ML\\\\Projet-STT-3795\\\\src\\\\validation_preprocessed_data')\n",
    "\n",
    "df = pd.concat([train_df, test_df, validation_df]).reset_index().iloc[:, 2:]\n",
    "df.rename(columns={'0': 'label'}, inplace=True)\n",
    "\n",
    "df_without_label = df.iloc[:, 0:-1]\n",
    "\n",
    "df_without_label"
   ]
  },
  {
   "attachments": {},
   "cell_type": "markdown",
   "metadata": {},
   "source": [
    "### Principal components"
   ]
  },
  {
   "cell_type": "code",
   "execution_count": null,
   "metadata": {},
   "outputs": [],
   "source": [
    "def get_PCs(dataframe, percentage_variance):\n",
    "    print()\n",
    "    scaler = StandardScaler()\n",
    "    scaled_df = scaler.fit_transform(dataframe)\n",
    "    print(f'Scaled_df Mean = {np.mean(scaled_df)},\\nScaled_df Std = {np.std(scaled_df)}')\n",
    "\n",
    "\n",
    "    pca_T = PCA()\n",
    "    pca_T.fit_transform(scaled_df)\n",
    "    ev = pca_T.explained_variance_\n",
    "    print()\n",
    "    print(f'Total variance = {sum(ev)}')\n",
    "\n",
    "    pca = PCA(percentage_variance/100)\n",
    "    principal_components = pca.fit_transform(scaled_df)\n",
    "    explained_variance = pca.explained_variance_\n",
    "    percentage = sum(pca.explained_variance_ratio_)\n",
    "    print(f'Real percentage = {percentage}')\n",
    "    print(f'Variance for {round(percentage*100, 2)}% = {sum(explained_variance)}')\n",
    "    print(f'Number of PCs for {round(percentage*100, 2)}% = {len(explained_variance)}')\n",
    "    print(f'Attribute lost = {len(scaled_df[0]) - len(explained_variance)}')\n",
    "    names = pca.get_feature_names_out()\n",
    "    return pd.DataFrame(data=principal_components, columns=names)\n"
   ]
  },
  {
   "cell_type": "code",
   "execution_count": null,
   "metadata": {},
   "outputs": [],
   "source": [
    "df_pca = get_PCs(df_without_label, 99)\n",
    "df_pca['label'] = df['label']\n",
    "df_pca"
   ]
  },
  {
   "attachments": {},
   "cell_type": "markdown",
   "metadata": {},
   "source": [
    "### Models"
   ]
  },
  {
   "attachments": {},
   "cell_type": "markdown",
   "metadata": {},
   "source": [
    "RFC and SVM"
   ]
  },
  {
   "cell_type": "code",
   "execution_count": null,
   "metadata": {},
   "outputs": [],
   "source": [
    "X_train, X_test, Y_train, Y_test = train_test_split(df_pca.iloc[:, 0:-1], df['label'], stratify=df['label'], test_size=0.3, random_state=42)\n",
    "\n",
    "\"\"\"\n",
    "# Model initialization\n",
    "svm = SVC(verbose=3)\n",
    "random_forest = RandomForestClassifier(verbose=3)\n",
    "nn = MLPClassifier(verbose=3)\n",
    "\n",
    "# Models fiting\n",
    "print(\"Training SVM\")\n",
    "svm.fit(X_train, Y_train)\n",
    "print(\"Training RFC\")\n",
    "random_forest.fit(X_train, Y_train)\n",
    "#nn.fit(X_train, Y_train)\n",
    "\n",
    "# Models prediction\n",
    "svm_predictions = svm.predict(X_test)\n",
    "random_forest_predictions = svm.predict(X_test)\n",
    "#nn_predictions = svm.predict(X_test)\n",
    "\"\"\"\n"
   ]
  },
  {
   "attachments": {},
   "cell_type": "markdown",
   "metadata": {},
   "source": [
    "XGBClassifier"
   ]
  },
  {
   "cell_type": "code",
   "execution_count": null,
   "metadata": {},
   "outputs": [],
   "source": [
    "xgbc = XGBClassifier()\n",
    "\n",
    "# Languages -> int\n",
    "label_encoder = LabelEncoder()\n",
    "Y_train = label_encoder.fit_transform(Y_train)\n",
    "Y_test = label_encoder.fit_transform(Y_test)\n",
    "\n",
    "xgbc.fit(X_train, Y_train)\n",
    "xgbc_predictions = xgbc.predict(X_test)\n",
    "xgbc_cm = confusion_matrix(label_encoder.inverse_transform(Y_test),label_encoder.inverse_transform(xgbc_predictions))\n",
    "xgbc_report = classification_report(label_encoder.inverse_transform(Y_test),label_encoder.inverse_transform(xgbc_predictions))\n",
    "xgbc_accuracy = accuracy_score(label_encoder.inverse_transform(Y_test),label_encoder.inverse_transform(xgbc_predictions))\n",
    "print(xgbc_cm)\n",
    "print(xgbc_report)"
   ]
  },
  {
   "attachments": {},
   "cell_type": "markdown",
   "metadata": {},
   "source": [
    "RandomizedSearch XGBoost"
   ]
  },
  {
   "cell_type": "code",
   "execution_count": null,
   "metadata": {},
   "outputs": [],
   "source": [
    "param_grid = {\n",
    "    'max_depth': [3, 4, 5],\n",
    "    'learning_rate': [0.01, 0.1, 0.2],\n",
    "    'n_estimators': [80, 100, 200],\n",
    "    'subsample': [0.8, 1],\n",
    "    'colsample_bytree': [0.8, 1], \n",
    "    'alpha' : [1e-5, 1e-2, 0.1, 1, 100], \n",
    "}\n",
    "\n",
    "xgbc = XGBClassifier(random_state=42)\n",
    "\n",
    "# Accuracy = (TP + TN)/(TP + TN + FP + FN) -> num pred correct / total number of pred\n",
    "grid_search = RandomizedSearchCV(estimator=xgbc, param_grid=param_grid, n_iter = 100, scoring='f1', cv=5, verbose=1, random_state = 42)\n",
    "grid_search.fit(X_train, Y_train)\n",
    "# Print the best parameters and the best F1 score\n",
    "print(f\"Best parameters found: {grid_search.best_params_}\")\n",
    "print(f\"Best F1 score: {grid_search.best_score_}\")\n",
    "best_estimator = grid_search.best_estimator_\n",
    "y_pred = best_estimator.predict(X_test)\n",
    "test_f1_score = f1_score(Y_test, y_pred)\n",
    "\n",
    "print(f\"Test F1 Score: {test_f1_score}\")"
   ]
  },
  {
   "attachments": {},
   "cell_type": "markdown",
   "metadata": {},
   "source": [
    "RandomizedSearch SVM"
   ]
  },
  {
   "cell_type": "code",
   "execution_count": null,
   "metadata": {},
   "outputs": [],
   "source": [
    "param_grid = {\n",
    "    'C': reciprocal(0.001, 1000),\n",
    "    'gamma': expon(scale=1.0),\n",
    "    'kernel': ['linear', 'rbf', 'poly']\n",
    "}\n",
    "\n",
    "svm_clf = SVC(random_state=42)\n",
    "random_search_svm = RandomizedSearchCV(svm_clf, param_grid, n_iter=100, verbose=2, cv=5, random_state=42, n_jobs=-1, scoring = 'f1')\n",
    "random_search_svm.fit(X_train, Y_train)\n",
    "print(\"Best parameters for SVM:\", random_search_svm.best_params_)\n",
    "print(\"Best score:\", random_search_svm.best_score_)"
   ]
  },
  {
   "attachments": {},
   "cell_type": "markdown",
   "metadata": {},
   "source": [
    "RandomizedSearch Random Forest Classifier"
   ]
  },
  {
   "cell_type": "code",
   "execution_count": null,
   "metadata": {},
   "outputs": [],
   "source": [
    "param_grid_rf = {\n",
    "    'n_estimators': [80, 100, 200],\n",
    "    'max_depth': [3, 4, 5, None],  \n",
    "    'min_samples_split': [2, 5, 10],\n",
    "    'min_samples_leaf': [1, 2, 4],\n",
    "    'max_features': ['auto', 'sqrt', 'log2', None] \n",
    "}\n",
    "\n",
    "rfc = RandomForestClassifier(random_state=42)\n",
    "\n",
    "random_search_rf = RandomizedSearchCV(rfc, param_grid_rf, n_iter=100, cv=5, verbose=2, random_state=42, n_jobs=-1, scoring = 'f1')\n",
    "random_search_rf.fit(X_train, Y_train)\n",
    "print(\"Best parameters:\", random_search_rf.best_params_)\n",
    "print(\"Best score:\", random_search_rf.best_score_)"
   ]
  },
  {
   "attachments": {},
   "cell_type": "markdown",
   "metadata": {},
   "source": [
    "XGBClassifier evaluation"
   ]
  },
  {
   "cell_type": "code",
   "execution_count": null,
   "metadata": {},
   "outputs": [],
   "source": [
    "xgbc_cm = confusion_matrix(label_encoder.inverse_transform(Y_test),label_encoder.inverse_transform(xgbc_predictions))\n",
    "xgbc_report = classification_report(label_encoder.inverse_transform(Y_test),label_encoder.inverse_transform(xgbc_predictions))\n",
    "xgbc_accuracy = accuracy_score(label_encoder.inverse_transform(Y_test),label_encoder.inverse_transform(xgbc_predictions))\n",
    "print(xgbc_accuracy)\n",
    "print(xgbc_cm)\n",
    "# Plotting the confusion matrix\n",
    "plt.figure(figsize=(10,7))\n",
    "sns.heatmap(xgbc_cm, annot=True, fmt=\"d\", cmap=\"Blues\")\n",
    "plt.title(\"Confusion Matrix\")\n",
    "plt.xlabel(\"Predicted Label\")\n",
    "plt.ylabel(\"True Label\")\n",
    "plt.show()\n",
    "print(xgbc_report)"
   ]
  }
 ],
 "metadata": {
  "kernelspec": {
   "display_name": "Python 3",
   "language": "python",
   "name": "python3"
  },
  "language_info": {
   "codemirror_mode": {
    "name": "ipython",
    "version": 3
   },
   "file_extension": ".py",
   "mimetype": "text/x-python",
   "name": "python",
   "nbconvert_exporter": "python",
   "pygments_lexer": "ipython3",
   "version": "3.9.12"
  }
 },
 "nbformat": 4,
 "nbformat_minor": 2
}
