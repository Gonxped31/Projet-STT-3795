{
 "cells": [
  {
   "cell_type": "markdown",
   "metadata": {},
   "source": [
    "### Imports"
   ]
  },
  {
   "cell_type": "code",
   "execution_count": 20,
   "metadata": {},
   "outputs": [
    {
     "ename": "ModuleNotFoundError",
     "evalue": "No module named 'xgboost'",
     "output_type": "error",
     "traceback": [
      "\u001b[1;31m---------------------------------------------------------------------------\u001b[0m",
      "\u001b[1;31mModuleNotFoundError\u001b[0m                       Traceback (most recent call last)",
      "Cell \u001b[1;32mIn[20], line 10\u001b[0m\n\u001b[0;32m      8\u001b[0m \u001b[38;5;28;01mfrom\u001b[39;00m \u001b[38;5;21;01msklearn\u001b[39;00m\u001b[38;5;21;01m.\u001b[39;00m\u001b[38;5;21;01mmodel_selection\u001b[39;00m \u001b[38;5;28;01mimport\u001b[39;00m train_test_split, GridSearchCV, RandomizedSearchCV\n\u001b[0;32m      9\u001b[0m \u001b[38;5;28;01mfrom\u001b[39;00m \u001b[38;5;21;01msklearn\u001b[39;00m\u001b[38;5;21;01m.\u001b[39;00m\u001b[38;5;21;01mpreprocessing\u001b[39;00m \u001b[38;5;28;01mimport\u001b[39;00m LabelEncoder \n\u001b[1;32m---> 10\u001b[0m \u001b[38;5;28;01mfrom\u001b[39;00m \u001b[38;5;21;01mxgboost\u001b[39;00m \u001b[38;5;28;01mimport\u001b[39;00m XGBClassifier \n\u001b[0;32m     12\u001b[0m \u001b[38;5;28;01mimport\u001b[39;00m \u001b[38;5;21;01mnumpy\u001b[39;00m \u001b[38;5;28;01mas\u001b[39;00m \u001b[38;5;21;01mnp\u001b[39;00m\n\u001b[0;32m     13\u001b[0m \u001b[38;5;28;01mimport\u001b[39;00m \u001b[38;5;21;01mpandas\u001b[39;00m \u001b[38;5;28;01mas\u001b[39;00m \u001b[38;5;21;01mpd\u001b[39;00m\n",
      "\u001b[1;31mModuleNotFoundError\u001b[0m: No module named 'xgboost'"
     ]
    }
   ],
   "source": [
    "from sklearn.preprocessing import StandardScaler\n",
    "from sklearn.decomposition import PCA\n",
    "from sklearn.ensemble import RandomForestClassifier\n",
    "from sklearn.svm import SVC\n",
    "from sklearn.neural_network import MLPClassifier\n",
    "from sklearn.pipeline import Pipeline\n",
    "from sklearn.metrics import accuracy_score, confusion_matrix, ConfusionMatrixDisplay, f1_score, classification_report\n",
    "from sklearn.model_selection import train_test_split, GridSearchCV, RandomizedSearchCV\n",
    "from sklearn.preprocessing import LabelEncoder \n",
    "from xgboost import XGBClassifier \n",
    "\n",
    "import numpy as np\n",
    "import pandas as pd\n",
    "import matplotlib.pyplot as plt"
   ]
  },
  {
   "cell_type": "markdown",
   "metadata": {},
   "source": [
    "### Get data"
   ]
  },
  {
   "cell_type": "code",
   "execution_count": null,
   "metadata": {},
   "outputs": [],
   "source": [
    "train_df = pd.read_csv('C:/Users/Samir/Documents/GitHub/Projet-STT-3795/src/data/wav_files_clean/train_preprocessed_data')\n",
    "test_df = pd.read_csv('C:/Users/Samir/Documents/GitHub/Projet-STT-3795/src/data/wav_files_clean/test_preprocessed_data')\n",
    "validation_df = pd.read_csv('C:/Users/Samir/Documents/GitHub/Projet-STT-3795/src/data/wav_files_clean/validation_preprocessed_data')\n",
    "\n",
    "df = pd.concat([train_df, test_df, validation_df]).reset_index().iloc[:, 2:]\n",
    "df.rename(columns={'0': 'label'}, inplace=True)\n",
    "\n",
    "df_without_label = df.iloc[:, 0:-1]\n",
    "\n",
    "df_without_label"
   ]
  },
  {
   "cell_type": "markdown",
   "metadata": {},
   "source": [
    "### Principal components"
   ]
  },
  {
   "cell_type": "code",
   "execution_count": 3,
   "metadata": {},
   "outputs": [],
   "source": [
    "def get_PCs(dataframe, percentage_variance):\n",
    "    print()\n",
    "    scaler = StandardScaler()\n",
    "    scaled_df = scaler.fit_transform(dataframe)\n",
    "    print(f'Scaled_df Mean = {np.mean(scaled_df)},\\nScaled_df Std = {np.std(scaled_df)}')\n",
    "\n",
    "\n",
    "    pca_T = PCA()\n",
    "    pca_T.fit_transform(scaled_df)\n",
    "    ev = pca_T.explained_variance_\n",
    "    print()\n",
    "    print(f'Total variance = {sum(ev)}')\n",
    "\n",
    "    pca = PCA(percentage_variance/100)\n",
    "    principal_components = pca.fit_transform(scaled_df)\n",
    "    explained_variance = pca.explained_variance_\n",
    "    percentage = sum(pca.explained_variance_ratio_)\n",
    "    print(f'Real percentage = {percentage}')\n",
    "    print(f'Variance for {round(percentage*100, 2)}% = {sum(explained_variance)}')\n",
    "    print(f'Number of PCs for {round(percentage*100, 2)}% = {len(explained_variance)}')\n",
    "    print(f'Attribute lost = {len(scaled_df[0]) - len(explained_variance)}')\n",
    "    names = pca.get_feature_names_out()\n",
    "    return pd.DataFrame(data=principal_components, columns=names)\n"
   ]
  },
  {
   "cell_type": "code",
   "execution_count": null,
   "metadata": {},
   "outputs": [],
   "source": [
    "df_pca = get_PCs(df_without_label, 99)\n",
    "df_pca['label'] = df['label']\n"
   ]
  },
  {
   "cell_type": "markdown",
   "metadata": {},
   "source": [
    "## Models"
   ]
  },
  {
   "cell_type": "markdown",
   "metadata": {},
   "source": [
    "### Training"
   ]
  },
  {
   "cell_type": "code",
   "execution_count": null,
   "metadata": {},
   "outputs": [],
   "source": [
    "X_train, X_test, Y_train, Y_test = train_test_split(df_pca.iloc[:, 0:-1], df['label'], stratify=df['label'], test_size=0.1, random_state=42) \n",
    "\n",
    "# Model initialization\n",
    "svm = SVC(verbose=3)\n",
    "random_forest = RandomForestClassifier(verbose=3)\n",
    "\n",
    "# Models fiting\n",
    "print(\"Training SVM\")\n",
    "svm.fit(X_train, Y_train)\n",
    "print(\"Training RFC\")\n",
    "random_forest.fit(X_train, Y_train)"
   ]
  },
  {
   "cell_type": "code",
   "execution_count": 22,
   "metadata": {},
   "outputs": [
    {
     "name": "stdout",
     "output_type": "stream",
     "text": [
      "[LibSVM]"
     ]
    }
   ],
   "source": [
    "pipe = Pipeline([\n",
    "    ('SVM', SVC(verbose=3)),\n",
    "    ('RDF', RandomForestClassifier(verbose=3))])\n"
   ]
  },
  {
   "cell_type": "markdown",
   "metadata": {},
   "source": [
    "### Predictions"
   ]
  },
  {
   "cell_type": "code",
   "execution_count": 15,
   "metadata": {},
   "outputs": [],
   "source": [
    "# Models prediction\n",
    "svm_predictions = svm.predict(X_test)\n",
    "random_forest_predictions = svm.predict(X_test)"
   ]
  },
  {
   "cell_type": "markdown",
   "metadata": {},
   "source": [
    "### Metrics"
   ]
  },
  {
   "cell_type": "markdown",
   "metadata": {},
   "source": [
    "#### Accuracy"
   ]
  },
  {
   "cell_type": "code",
   "execution_count": null,
   "metadata": {},
   "outputs": [],
   "source": [
    "svm_accuracy = accuracy_score(Y_test, svm_predictions)\n",
    "random_forest_accuracy = accuracy_score(Y_test, random_forest_predictions)\n",
    "\n",
    "print(f'SVM accuracy: {svm_accuracy}')\n",
    "print(f'RDF accuracy: {random_forest_accuracy}')"
   ]
  },
  {
   "cell_type": "markdown",
   "metadata": {},
   "source": [
    "#### Confusion matrix"
   ]
  },
  {
   "cell_type": "code",
   "execution_count": null,
   "metadata": {},
   "outputs": [],
   "source": [
    "svm_conf_matrix = confusion_matrix(Y_test, svm_predictions)\n",
    "rdf_conf_matrix = confusion_matrix(Y_test, random_forest_predictions)\n",
    "\n",
    "#svm_cf_display = ConfusionMatrixDisplay(confusion_matrix=svm_conf_matrix, display_labels=[False, True])\n",
    "#rdf_cf_display = ConfusionMatrixDisplay(confusion_matrix=rdf_conf_matrix, display_labels=[False, True])\n",
    "\n",
    "print(svm_conf_matrix)\n",
    "print()\n",
    "print(rdf_conf_matrix)"
   ]
  },
  {
   "cell_type": "markdown",
   "metadata": {},
   "source": [
    "#### Classification report"
   ]
  },
  {
   "cell_type": "code",
   "execution_count": null,
   "metadata": {},
   "outputs": [],
   "source": [
    "target = df['label']\n",
    "report = classification_report(Y_test, svm_predictions)\n",
    "print(report)"
   ]
  }
 ],
 "metadata": {
  "kernelspec": {
   "display_name": "Python 3",
   "language": "python",
   "name": "python3"
  },
  "language_info": {
   "codemirror_mode": {
    "name": "ipython",
    "version": 3
   },
   "file_extension": ".py",
   "mimetype": "text/x-python",
   "name": "python",
   "nbconvert_exporter": "python",
   "pygments_lexer": "ipython3",
   "version": "3.12.2"
  }
 },
 "nbformat": 4,
 "nbformat_minor": 2
}
