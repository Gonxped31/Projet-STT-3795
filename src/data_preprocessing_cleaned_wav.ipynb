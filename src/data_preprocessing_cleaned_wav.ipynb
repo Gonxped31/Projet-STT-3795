{
  "cells": [
    {
      "attachments": {},
      "cell_type": "markdown",
      "metadata": {
        "id": "Q7iV8O1QA6CT"
      },
      "source": [
        "## Imports\n",
        "\n"
      ]
    },
    {
      "cell_type": "code",
      "execution_count": null,
      "metadata": {
        "id": "YGZXibcaA6Cj"
      },
      "outputs": [],
      "source": [
        "from common_language import _LANGUAGES\n",
        "import processing as prlib\n",
        "\n",
        "from scipy.fft import fft\n",
        "from mutagen.wave import WAVE\n",
        "from parselmouth.praat import call\n",
        "from scipy.signal import find_peaks\n",
        "import matplotlib.pyplot as plt\n",
        "import pandas as pd\n",
        "import numpy as np\n",
        "import librosa\n",
        "import librosa.display\n",
        "import parselmouth\n",
        "import noisereduce as nr\n",
        "import os \n",
        "\n"
      ]
    },
    {
      "attachments": {},
      "cell_type": "markdown",
      "metadata": {
        "id": "s7TjmM60A6Cl"
      },
      "source": [
        "##Features processing"
      ]
    },
    {
      "attachments": {},
      "cell_type": "markdown",
      "metadata": {
        "id": "rEfhfVxWA6Cl"
      },
      "source": [
        "###Get data frames"
      ]
    },
    {
      "cell_type": "code",
      "execution_count": null,
      "metadata": {
        "id": "eiSAp4PrA6Cl"
      },
      "outputs": [],
      "source": [
        "print(os.getcwd())\n",
        "_, train_df, test_df, validation_df = prlib.get_clean_dataframes()\n",
        "train_df.head(), prlib.frame_length"
      ]
    },
    {
      "attachments": {},
      "cell_type": "markdown",
      "metadata": {
        "id": "pwx714T8A6Cm"
      },
      "source": [
        "###MFCCs"
      ]
    },
    {
      "cell_type": "code",
      "execution_count": null,
      "metadata": {
        "id": "fEhxnsexA6Cm"
      },
      "outputs": [],
      "source": []
    },
    {
      "attachments": {},
      "cell_type": "markdown",
      "metadata": {
        "id": "xh1VXGJaA6Cn"
      },
      "source": [
        "###Spectral measurements"
      ]
    },
    {
      "cell_type": "code",
      "execution_count": null,
      "metadata": {
        "id": "D-jLv728A6Cn"
      },
      "outputs": [],
      "source": []
    },
    {
      "attachments": {},
      "cell_type": "markdown",
      "metadata": {
        "id": "4hnN4iSsA6Cn"
      },
      "source": [
        "###Pitch sequence"
      ]
    },
    {
      "cell_type": "code",
      "execution_count": null,
      "metadata": {
        "id": "X030r1GZA6Co"
      },
      "outputs": [],
      "source": []
    },
    {
      "attachments": {},
      "cell_type": "markdown",
      "metadata": {
        "id": "5yl73mEqA6Co"
      },
      "source": [
        "###Formants"
      ]
    },
    {
      "cell_type": "code",
      "execution_count": null,
      "metadata": {
        "id": "W9t2ngiyA6Co"
      },
      "outputs": [],
      "source": []
    },
    {
      "attachments": {},
      "cell_type": "markdown",
      "metadata": {
        "id": "wJWvBeWtA6Cp"
      },
      "source": [
        "###RMS and ZCR"
      ]
    },
    {
      "cell_type": "code",
      "execution_count": null,
      "metadata": {
        "id": "atCqVJ3nA6Cp"
      },
      "outputs": [],
      "source": []
    },
    {
      "attachments": {},
      "cell_type": "markdown",
      "metadata": {
        "id": "_1qiPaRZA6Cp"
      },
      "source": [
        "###HNR"
      ]
    },
    {
      "cell_type": "code",
      "execution_count": null,
      "metadata": {
        "id": "yqG4JM04A6Cq"
      },
      "outputs": [],
      "source": []
    },
    {
      "attachments": {},
      "cell_type": "markdown",
      "metadata": {
        "id": "sKHSva4lA6Cq"
      },
      "source": [
        "### Features matrix"
      ]
    },
    {
      "cell_type": "code",
      "execution_count": null,
      "metadata": {
        "id": "_Ak7KjJUA6Cq"
      },
      "outputs": [],
      "source": [
        "training_audios = train_df['paths'].tolist()\n",
        "test_audios = test_df['paths'].tolist()\n",
        "validation_audios = validation_df['paths'].tolist()\n",
        "\n",
        "def extract_zcr_features(zcr_vector, hnr_mean): \n",
        "    # Calculate aggregated features\n",
        "    features = {\n",
        "        \"mean_zcr\": np.mean(zcr_vector),\n",
        "        \"std_dev_zcr\": np.std(zcr_vector),\n",
        "        \"median_zcr\": np.median(zcr_vector),\n",
        "        \"min_zcr\": np.min(zcr_vector),\n",
        "        \"max_zcr\": np.max(zcr_vector),\n",
        "        \"q25_zcr\": np.percentile(zcr_vector, 25),\n",
        "        \"q75_zcr\": np.percentile(zcr_vector, 75),\n",
        "        \"iqr_zcr\": np.percentile(zcr_vector, 75) - np.percentile(zcr_vector, 25),\n",
        "        \"hnr_mean\": hnr_mean\n",
        "    }\n",
        "\n",
        "    # Convert the features dictionary to a pandas DataFrame\n",
        "    features_df = pd.DataFrame([features])\n",
        "    \n",
        "    return features_df    \n",
        "\n",
        "def extract_rms_features(rms_energy): \n",
        "    features = {\n",
        "            \"mean_energy\": np.mean(rms_energy),\n",
        "            \"std_dev_energy\": np.std(rms_energy),\n",
        "            \"median_energy\": np.median(rms_energy),\n",
        "            \"min_energy\": np.min(rms_energy),\n",
        "            \"max_energy\": np.max(rms_energy),\n",
        "            \"energy_range\": np.max(rms_energy) - np.min(rms_energy),\n",
        "            \"q25_energy\": np.percentile(rms_energy, 25),\n",
        "            \"q75_energy\": np.percentile(rms_energy, 75),\n",
        "            \"energy_iqr\": np.percentile(rms_energy, 75) - np.percentile(rms_energy, 25),\n",
        "            \"energy_variability\": np.sum(np.abs(np.diff(rms_energy))),\n",
        "            \"zero_crossing_rate\": np.sum(np.diff(np.sign(np.diff(rms_energy))) != 0) / len(rms_energy),\n",
        "            \"low_energy_frame_rate\": np.sum(rms_energy < (0.5 * np.mean(rms_energy))) / len(rms_energy)\n",
        "        }\n",
        "\n",
        "    features_df = pd.DataFrame([features])\n",
        "\n",
        "    return features_df\n",
        "\n",
        "\n",
        "def extract_formants(f1, f2, f3): \n",
        "    f1, f2, f3 = map(lambda x: np.nan_to_num(np.asarray(x)), [f1, f2, f3])\n",
        "    features = {}\n",
        "    for formant, name in zip([f1, f2, f3], ['F1', 'F2', 'F3']):\n",
        "        features[f'{name}_mean'] = np.nanmean(formant)\n",
        "        features[f'{name}_std_dev'] = np.nanstd(formant)\n",
        "        features[f'{name}_median'] = np.nanmedian(formant)\n",
        "        features[f'{name}_min'] = np.nanmin(formant)\n",
        "        features[f'{name}_max'] = np.nanmax(formant)\n",
        "        features[f'{name}_range'] = np.nanmax(formant) - np.nanmin(formant)\n",
        "        features[f'{name}_q25'] = np.nanpercentile(formant, 25)\n",
        "        features[f'{name}_q75'] = np.nanpercentile(formant, 75)\n",
        "        features[f'{name}_iqr'] = np.nanpercentile(formant, 75) - np.nanpercentile(formant, 25)\n",
        "        # Ensure there are at least 2 elements to compute diff, otherwise default to 0\n",
        "        features[f'{name}_delta_sum'] = np.sum(np.abs(np.diff(formant))) if len(formant) > 1 else 0\n",
        "\n",
        "    if all(len(formant) > 0 for formant in [f1, f2, f3]):\n",
        "        features['F2_F1_diff_mean'] = np.nanmean(f2 - f1)\n",
        "        features['F3_F2_diff_mean'] = np.nanmean(f3 - f2)\n",
        "    else:\n",
        "        features['F2_F1_diff_mean'], features['F3_F2_diff_mean'] = 0, 0\n",
        "\n",
        "    features_df = pd.DataFrame([features])\n",
        "    return features_df\n",
        "\n",
        "def extract_spectre(data, type):\n",
        "    # Define feature names\n",
        "    feature_names = ['mean_' + type, 'std_' + type, 'median_' + type, 'min_' + type, 'max_' + type, 'q25_' + type, 'q75_' + type]\n",
        "    \n",
        "    # Compute the features\n",
        "    mean_val = np.mean(data)\n",
        "    std_val = np.std(data)\n",
        "    median_val = np.median(data)\n",
        "    min_val = np.min(data)\n",
        "    max_val = np.max(data)\n",
        "    q25, q75 = np.percentile(data, [25, 75])\n",
        "    \n",
        "    # Collect features into a list\n",
        "    features = [mean_val, std_val, median_val, min_val, max_val, q25, q75]\n",
        "    \n",
        "    # Create a DataFrame from the features list\n",
        "    features_df = pd.DataFrame([features], columns=feature_names)\n",
        "    \n",
        "    return features_df\n",
        "\n",
        "# Outputs 3 features per band (Contrast peak, temporal evolution, rate of change) = 21 \n",
        "# Mean and std of spectral contrast\n",
        "def extract_contrast(spectral_contrast):\n",
        "    features = []\n",
        "    feature_names = []\n",
        "\n",
        "    # Iterate over each frequency band to calculate band-specific features\n",
        "    for band in range(spectral_contrast.shape[0]):\n",
        "        contrast_band = spectral_contrast[band, :]\n",
        "\n",
        "        # Count significant peaks\n",
        "        peaks, _ = find_peaks(contrast_band, height=np.mean(contrast_band))\n",
        "        features.append(len(peaks))\n",
        "        feature_names.append(f'band_{band}_peaks')\n",
        "\n",
        "        # Temporal evolution: difference between means of the first and second halves\n",
        "        mid_point = len(contrast_band) // 2\n",
        "        mean_diff = np.mean(contrast_band[mid_point:]) - np.mean(contrast_band[:mid_point])\n",
        "        features.append(mean_diff)\n",
        "        feature_names.append(f'band_{band}_mean_diff')\n",
        "\n",
        "        # Rate of change (derivative)\n",
        "        derivative = np.mean(np.abs(np.diff(contrast_band)))\n",
        "        features.append(derivative)\n",
        "        feature_names.append(f'band_{band}_derivative')\n",
        "\n",
        "    # Add overall statistical measures for the entire spectral contrast matrix\n",
        "    overall_mean = np.mean(spectral_contrast)\n",
        "    features.append(overall_mean)\n",
        "    feature_names.append('overall_mean')\n",
        "\n",
        "    overall_std = np.std(spectral_contrast)\n",
        "    features.append(overall_std)\n",
        "    feature_names.append('overall_std')\n",
        "\n",
        "    # Convert the features list into a DataFrame\n",
        "    features_df = pd.DataFrame([features], columns=feature_names)\n",
        "\n",
        "    return features_df\n",
        "\n",
        "def mfccs_to_df(mfcc_means,mfcc_stds): \n",
        "    # Ensure mfcc_means and mfcc_stds are flat arrays\n",
        "    mfcc_means = mfcc_means.flatten()\n",
        "    mfcc_stds = mfcc_stds.flatten()\n",
        "    \n",
        "    # Generate column names\n",
        "    mean_col_names = [f'MFCC_mean_{i+1}' for i in range(len(mfcc_means))]\n",
        "    std_col_names = [f'MFCC_std_{i+1}' for i in range(len(mfcc_stds))]\n",
        "    \n",
        "    # Combine the MFCC means and stds into a single DataFrame\n",
        "    mfcc_features_df = pd.DataFrame([np.concatenate([mfcc_means, mfcc_stds])],\n",
        "                                    columns=mean_col_names + std_col_names)\n",
        "    \n",
        "    return mfcc_features_df\n",
        "\n",
        "type = [(training_audios, 'train'), (test_audios, 'test'), (validation_audios, 'validation')]\n",
        "total = len(training_audios) + len(test_audios) + len(validation_audios)\n",
        "c=0\n",
        "for i in range(len(type)):\n",
        "    attributes_df = pd.DataFrame()\n",
        "    for j in range(300, len(type[i][0])):\n",
        "        try:\n",
        "            print(c, \"/\", total, \":\", type[i][0][j])\n",
        "            c+=1\n",
        "            path = prlib.get_clean_path(type[i][1], type[i][0][j])\n",
        "            print(type[i][0][j] + \" \" + path)\n",
        "            #sample_rate represent the number of samples per seconds in the original signal.\n",
        "            data = prlib.get_data(path)\n",
        "            #clean data\n",
        "\n",
        "            #Get the attributes\n",
        "            mfccs = prlib.get_Normalized_Mfccs(data)\n",
        "            specs_measurements = prlib.get_spectral_measurements(data)\n",
        "            pitch_track = prlib.get_pitch_sequences(data)\n",
        "            formants_data = prlib.get_formants(path)\n",
        "            rms_energy = prlib.get_rms_energy(data)\n",
        "            zcr = prlib.get_ZCR(data)\n",
        "            hnr_mean = prlib.get_HNR(data)\n",
        "            # mfccs: Get mean and std atributes\n",
        "            mfccs = mfccs_to_df(np.mean(mfccs, axis = 1),np.std(mfccs, axis = 1))\n",
        "\n",
        "            # Spec measurements: Use extract specter to produce features\n",
        "            spectre_centroid_df = extract_spectre(specs_measurements[0], \"centroid\")\n",
        "            spectre_rollof_df = extract_spectre(specs_measurements[1], \"rollof\")\n",
        "            spectre_bandwidth_df = extract_spectre(specs_measurements[2], \"bandwidth\")\n",
        "            spectre_flatness_df = extract_spectre(specs_measurements[3], \"flatness\")\n",
        "            \n",
        "\n",
        "            # Spectre contrast\n",
        "            spectre_contrast_df = extract_contrast(specs_measurements[4])\n",
        "\n",
        "            # Pitch track: use extract spectre method\n",
        "            # Add IQR and pitch delta sum -> 9 features\n",
        "            #print(pitch_track.shape)\n",
        "            pitch_track_df = extract_spectre(pitch_track, \"pitch_track\")\n",
        "            # Formants : Call extract_formants with f1, f2, f3\n",
        "            # Returns dataframe with 32 features\n",
        "            formants_df = extract_formants(formants_data[\"F1\"], formants_data[\"F2\"], formants_data[\"F3\"])\n",
        "            \n",
        "            # RMS\n",
        "            rms_energy_df = extract_rms_features(rms_energy[0])\n",
        "\n",
        "            if type[i][1] == 'train':\n",
        "                label = pd.Series(train_df['language'][j])\n",
        "            elif type[i][1] == 'test':\n",
        "                label = pd.Series(test_df['language'][j])\n",
        "            elif type[i][1] == 'validation':\n",
        "                label = pd.Series(validation_df['language'][j])\n",
        "\n",
        "            #ZCR and HNR mean\n",
        "            combined_features_row = pd.concat([mfccs, spectre_centroid_df,\\\n",
        "                                            spectre_rollof_df, \\\n",
        "                                                spectre_bandwidth_df,\\\n",
        "                                                      spectre_flatness_df, \\\n",
        "                                                        spectre_contrast_df,\\\n",
        "                                                            pitch_track_df,\\\n",
        "                                                                formants_df, \\\n",
        "                                                                    rms_energy_df, label], axis = 1)\n",
        "\n",
        "            \"\"\"\n",
        "            row = pd.DataFrame({'Audio': audio ,'MFCCs': [np.array(mfccs)],\n",
        "                                        'Spec Centroid': [specs_measurements[0]], 'Spec Rollof': [specs_measurements[1]],\n",
        "                                        'Spec Bandwidth': [specs_measurements[2]], 'Spec Flatness': [specs_measurements[3]],\n",
        "                                        'Spec Contrast': [specs_measurements[4]], 'Pitch Track': [pitch_track],\n",
        "                                        'Formants': [formants_data], 'RMS Energy': [rms_energy],\n",
        "                                        'ZCR': [zcr], 'HNR Mean': [hnr_mean]})\n",
        "            \"\"\"\n",
        "            attributes_df = pd.concat([attributes_df, combined_features_row], ignore_index=True)\n",
        "        except Exception as e:\n",
        "            print(e)\n",
        "    \"\"\"\n",
        "    if type[i][1] == 'train':\n",
        "        attributes_df['label'] = train_df['language']\n",
        "    elif type[i][1] == 'test':\n",
        "        attributes_df['label'] = test_df['language']\n",
        "    elif type[i][1] == 'validation':\n",
        "        attributes_df['label'] = validation_df['language']\n",
        "      \n",
        "    attributes_df.to_csv(type[i][1] + \"_preprocessed_data\")\n",
        "    \"\"\""
      ]
    },
    {
      "cell_type": "code",
      "execution_count": null,
      "metadata": {},
      "outputs": [],
      "source": [
        "attributes_df"
      ]
    },
    {
      "attachments": {},
      "cell_type": "markdown",
      "metadata": {
        "id": "9Q27A8p2A6Cq"
      },
      "source": [
        "## Features visualisation"
      ]
    },
    {
      "attachments": {},
      "cell_type": "markdown",
      "metadata": {
        "id": "eYG_kWe9A6Cr"
      },
      "source": [
        "### Initialisation"
      ]
    },
    {
      "cell_type": "code",
      "execution_count": null,
      "metadata": {
        "id": "XJbaiBWvA6Cr"
      },
      "outputs": [],
      "source": [
        "data, sample_rate = librosa.load(path=f'./wav_files/validation/{validation_df['paths'][0]}')\n",
        "data = nr.reduce_noise(y=data, sr=sample_rate)"
      ]
    },
    {
      "attachments": {},
      "cell_type": "markdown",
      "metadata": {
        "id": "LnXN5j9AA6Cr"
      },
      "source": [
        "### MFCCs visualisation"
      ]
    },
    {
      "cell_type": "code",
      "execution_count": null,
      "metadata": {
        "id": "Jf1vcu44A6Cr"
      },
      "outputs": [],
      "source": [
        "normalized_mfccs = get_Normalized_Mfccs(data, sample_rate)\n",
        "\n",
        "plt.figure(figsize=(12,6))\n",
        "librosa.display.specshow(normalized_mfccs, x_axis='time')\n",
        "plt.colorbar()\n",
        "plt.title('MFCCs')\n",
        "plt.tight_layout()\n",
        "plt.show()"
      ]
    },
    {
      "attachments": {},
      "cell_type": "markdown",
      "metadata": {
        "id": "hVXJfhzZA6Cs"
      },
      "source": [
        "### Spectral measurements visualisation"
      ]
    },
    {
      "cell_type": "code",
      "execution_count": null,
      "metadata": {
        "id": "uXalFYUPA6Cs"
      },
      "outputs": [],
      "source": [
        "specs = get_spectral_measurements(data, sample_rate)\n",
        "\n",
        "t = librosa.frames_to_time(range(len(specs[0])), sr=sample_rate)\n",
        "\n",
        "# Plotting the Spectral Features\n",
        "plt.figure(figsize=(12, 4))\n",
        "plt.plot(t, specs[0], color='red', label='Centroid')\n",
        "plt.plot(t, specs[1], color='blue', label='Rolloff')\n",
        "plt.plot(t, specs[2], color='green', label='Bandwidth')\n",
        "\n",
        "# For spectral flatness, there's no need to convert to dB since it's a ratio and typically small.\n",
        "#plt.plot(t, spectral_flatness, color='orange', label='Flatness')\n",
        "\n",
        "# For spectral contrast, it's common to average over the frequency bands since it returns an array of shape (n_bands, n_frames).\n",
        "#spectral_contrast_avg = np.mean(spectral_contrast, axis=0)\n",
        "#plt.plot(t, spectral_contrast_avg, color='black', label='Contrast')\n",
        "\n",
        "plt.xlabel(\"Time (s)\")\n",
        "plt.ylabel(\"Spectral Feature Value\")\n",
        "plt.title(\"Spectral Features Over Time\")\n",
        "plt.legend(loc='best')\n",
        "plt.show()"
      ]
    },
    {
      "attachments": {},
      "cell_type": "markdown",
      "metadata": {
        "id": "xX0kRV5oA6Cs"
      },
      "source": [
        "### Pitches visualisation"
      ]
    },
    {
      "cell_type": "code",
      "execution_count": null,
      "metadata": {
        "id": "20A1Ppo5A6Cs"
      },
      "outputs": [],
      "source": [
        "pitch_track = get_pitch_sequences(data, sample_rate)\n",
        "plt.figure(figsize=(12, 6))\n",
        "plt.plot(pitch_track)\n",
        "plt.xlabel('Time (frames)')\n",
        "plt.ylabel('Frequency (Hz)')\n",
        "plt.title('Pitch Track')\n",
        "plt.show()"
      ]
    },
    {
      "attachments": {},
      "cell_type": "markdown",
      "metadata": {
        "id": "FBnF2Rt_A6Ct"
      },
      "source": [
        "### RMS Visualisation"
      ]
    },
    {
      "cell_type": "code",
      "execution_count": null,
      "metadata": {
        "id": "R7GHFar1A6Ct"
      },
      "outputs": [],
      "source": [
        "rms_energy = get_rms_energy(data)\n",
        "frames = range(len(rms_energy[0]))\n",
        "t = librosa.frames_to_time(frames, sr=sample_rate)\n",
        "\n",
        "plt.figure(figsize=(12, 4))\n",
        "plt.plot(t, rms_energy[0], label='RMS Energy')\n",
        "plt.xlabel(\"Time (s)\")\n",
        "plt.ylabel(\"Energy\")\n",
        "plt.title(\"RMS Energy Over Time\")\n",
        "plt.legend()\n",
        "plt.show()"
      ]
    }
  ],
  "metadata": {
    "colab": {
      "provenance": []
    },
    "kernelspec": {
      "display_name": "Python 3",
      "language": "python",
      "name": "python3"
    },
    "language_info": {
      "codemirror_mode": {
        "name": "ipython",
        "version": 3
      },
      "file_extension": ".py",
      "mimetype": "text/x-python",
      "name": "python",
      "nbconvert_exporter": "python",
      "pygments_lexer": "ipython3",
      "version": "3.12.2"
    }
  },
  "nbformat": 4,
  "nbformat_minor": 0
}
