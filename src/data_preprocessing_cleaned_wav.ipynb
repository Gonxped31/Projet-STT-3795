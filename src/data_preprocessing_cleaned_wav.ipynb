{
  "cells": [
    {
      "attachments": {},
      "cell_type": "markdown",
      "metadata": {
        "id": "Q7iV8O1QA6CT"
      },
      "source": [
        "## Imports\n",
        "\n"
      ]
    },
    {
      "cell_type": "code",
      "execution_count": null,
      "metadata": {
        "id": "YGZXibcaA6Cj"
      },
      "outputs": [],
      "source": [
        "from common_language import _LANGUAGES\n",
        "import processing as prlib\n",
        "import extract_features as featurelib\n",
        "\n",
        "from scipy.fft import fft\n",
        "from mutagen.wave import WAVE\n",
        "from parselmouth.praat import call\n",
        "from scipy.signal import find_peaks\n",
        "import matplotlib.pyplot as plt\n",
        "import pandas as pd\n",
        "import numpy as np\n",
        "import librosa\n",
        "import librosa.display\n",
        "import parselmouth\n",
        "import noisereduce as nr\n",
        "import os "
      ]
    },
    {
      "attachments": {},
      "cell_type": "markdown",
      "metadata": {
        "id": "s7TjmM60A6Cl"
      },
      "source": [
        "##Features processing"
      ]
    },
    {
      "attachments": {},
      "cell_type": "markdown",
      "metadata": {
        "id": "rEfhfVxWA6Cl"
      },
      "source": [
        "###Get data frames"
      ]
    },
    {
      "cell_type": "code",
      "execution_count": null,
      "metadata": {
        "id": "eiSAp4PrA6Cl"
      },
      "outputs": [],
      "source": [
        "print(os.getcwd())\n",
        "_, train_df, test_df, validation_df = prlib.get_clean_dataframes()\n",
        "train_df.head(), prlib.frame_length"
      ]
    },
    {
      "attachments": {},
      "cell_type": "markdown",
      "metadata": {
        "id": "sKHSva4lA6Cq"
      },
      "source": [
        "### Features matrix"
      ]
    },
    {
      "cell_type": "code",
      "execution_count": null,
      "metadata": {
        "id": "_Ak7KjJUA6Cq"
      },
      "outputs": [],
      "source": [
        "type = 'validation'\n",
        "datasets = [('train', train_df), ('test', test_df), ('validation', validation_df)]\n",
        "\n",
        "for (type, df) in datasets[2:]:\n",
        "    attributes_df, df = featurelib.extract_features(type, df.iloc[:100, :])\n",
        "    #attributes_df.to_csv(f'./data/{type}_preprocessed_data.csv', index=False) # , sep=',', encoding='utf-8', index=False)\n",
        "    #df.to_csv(f'./data/wav_files_clean/{type}/{type}_data.csv', index=False)\n",
        "\n",
        "attributes_df"
      ]
    },
    {
      "attachments": {},
      "cell_type": "markdown",
      "metadata": {
        "id": "9Q27A8p2A6Cq"
      },
      "source": [
        "## Features visualisation"
      ]
    },
    {
      "attachments": {},
      "cell_type": "markdown",
      "metadata": {
        "id": "eYG_kWe9A6Cr"
      },
      "source": [
        "### Initialisation"
      ]
    },
    {
      "cell_type": "code",
      "execution_count": null,
      "metadata": {
        "id": "XJbaiBWvA6Cr"
      },
      "outputs": [],
      "source": [
        "data = prlib.get_data(path=f'./data/wav_files/validation/{validation_df['paths'][0]}')"
      ]
    },
    {
      "attachments": {},
      "cell_type": "markdown",
      "metadata": {
        "id": "LnXN5j9AA6Cr"
      },
      "source": [
        "### MFCCs visualisation"
      ]
    },
    {
      "cell_type": "code",
      "execution_count": null,
      "metadata": {
        "id": "Jf1vcu44A6Cr"
      },
      "outputs": [],
      "source": [
        "normalized_mfccs = prlib.get_Normalized_Mfccs(data)\n",
        "\n",
        "plt.figure(figsize=(12,6))\n",
        "librosa.display.specshow(normalized_mfccs, x_axis='time')\n",
        "plt.colorbar()\n",
        "plt.title('MFCCs')\n",
        "plt.tight_layout()\n",
        "plt.show()"
      ]
    },
    {
      "attachments": {},
      "cell_type": "markdown",
      "metadata": {
        "id": "hVXJfhzZA6Cs"
      },
      "source": [
        "### Spectral measurements visualisation"
      ]
    },
    {
      "cell_type": "code",
      "execution_count": null,
      "metadata": {
        "id": "uXalFYUPA6Cs"
      },
      "outputs": [],
      "source": [
        "specs = prlib.get_spectral_measurements(data)\n",
        "\n",
        "t = librosa.frames_to_time(range(len(specs[0])), sr=prlib.sample_rate)\n",
        "\n",
        "# Plotting the Spectral Features\n",
        "plt.figure(figsize=(12, 4))\n",
        "plt.plot(t, specs[0], color='red', label='Centroid')\n",
        "plt.plot(t, specs[1], color='blue', label='Rolloff')\n",
        "plt.plot(t, specs[2], color='green', label='Bandwidth')\n",
        "\n",
        "# For spectral flatness, there's no need to convert to dB since it's a ratio and typically small.\n",
        "#plt.plot(t, spectral_flatness, color='orange', label='Flatness')\n",
        "\n",
        "# For spectral contrast, it's common to average over the frequency bands since it returns an array of shape (n_bands, n_frames).\n",
        "#spectral_contrast_avg = np.mean(spectral_contrast, axis=0)\n",
        "#plt.plot(t, spectral_contrast_avg, color='black', label='Contrast')\n",
        "\n",
        "plt.xlabel(\"Time (s)\")\n",
        "plt.ylabel(\"Spectral Feature Value\")\n",
        "plt.title(\"Spectral Features Over Time\")\n",
        "plt.legend(loc='best')\n",
        "plt.show()"
      ]
    },
    {
      "attachments": {},
      "cell_type": "markdown",
      "metadata": {
        "id": "xX0kRV5oA6Cs"
      },
      "source": [
        "### Pitches visualisation"
      ]
    },
    {
      "cell_type": "code",
      "execution_count": null,
      "metadata": {
        "id": "20A1Ppo5A6Cs"
      },
      "outputs": [],
      "source": [
        "pitch_track = prlib.get_pitch_sequences(data)\n",
        "plt.figure(figsize=(12, 6))\n",
        "plt.plot(pitch_track)\n",
        "plt.xlabel('Time (frames)')\n",
        "plt.ylabel('Frequency (Hz)')\n",
        "plt.title('Pitch Track')\n",
        "plt.show()"
      ]
    },
    {
      "attachments": {},
      "cell_type": "markdown",
      "metadata": {
        "id": "FBnF2Rt_A6Ct"
      },
      "source": [
        "### RMS Visualisation"
      ]
    },
    {
      "cell_type": "code",
      "execution_count": null,
      "metadata": {
        "id": "R7GHFar1A6Ct"
      },
      "outputs": [],
      "source": [
        "rms_energy = prlib.get_rms_energy(data)\n",
        "frames = range(len(rms_energy[0]))\n",
        "t = librosa.frames_to_time(frames, sr=prlib.sample_rate)\n",
        "\n",
        "plt.figure(figsize=(12, 4))\n",
        "plt.plot(t, rms_energy[0], label='RMS Energy')\n",
        "plt.xlabel(\"Time (s)\")\n",
        "plt.ylabel(\"Energy\")\n",
        "plt.title(\"RMS Energy Over Time\")\n",
        "plt.legend()\n",
        "plt.show()"
      ]
    }
  ],
  "metadata": {
    "colab": {
      "provenance": []
    },
    "kernelspec": {
      "display_name": "Python 3",
      "language": "python",
      "name": "python3"
    },
    "language_info": {
      "codemirror_mode": {
        "name": "ipython",
        "version": 3
      },
      "file_extension": ".py",
      "mimetype": "text/x-python",
      "name": "python",
      "nbconvert_exporter": "python",
      "pygments_lexer": "ipython3",
      "version": "3.12.2"
    }
  },
  "nbformat": 4,
  "nbformat_minor": 0
}
